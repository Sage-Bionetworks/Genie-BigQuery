{
 "cells": [
  {
   "cell_type": "markdown",
   "metadata": {},
   "source": [
    "# GENIE and TCGA Biquery AI Notebook Example\n",
    "\n",
    "The following notebook example shows how to write an advanced query using magic command that allows you to run queries with minimal code and visualize the results. It calculates the frequency of SNV mutations for the top 50 mutated genes in GENIE, and compairs them to the same genes in TCGA."
   ]
  },
  {
   "cell_type": "markdown",
   "metadata": {},
   "source": [
    "## Query TCGA Data\n",
    "First query against isb-cgc.TCGA_hg38_data_v0.Somatic_Mutation BigQuery table provided by ISB-CGC. Takes a list of gene symbols and returns a list of TCGA cases (barcodes) that have a SNP called for those genes "
   ]
  },
  {
   "cell_type": "code",
   "execution_count": null,
   "metadata": {},
   "outputs": [],
   "source": [
    "%%bigquery tcga\n",
    "WITH genes AS (\n",
    "  SELECT * FROM UNNEST([\n",
    "      'ABL1',   'AKT1',    'ALK',    'APC',\n",
    "       'BRAF',   'CDH1',    'CDKN2A', 'CSF1R',\n",
    "       'CTNNB1', 'EGFR',    'ERBB2',  'ERBB3',\n",
    "       'ESR1',   'FBXW7',   'FGFR1',  'FGFR2',\n",
    "       'FGFR3',  'FLT3',    'GNA11',  'GNAQ',\n",
    "       'GNAS',   'HRAS',    'IDH1',   'IDH2',\n",
    "       'JAK2',   'JAK3',    'KIT',    'KLLN',\n",
    "       'KRAS',   'MAP2K1',  'MET',    'MLH1',\n",
    "       'MPL',    'MYC',     'NOTCH1', 'NRAS',\n",
    "       'PDGFRA', 'PIK3CA',  'PIK3R1', 'PTEN',\n",
    "       'PTPN11', 'RB1',     'RET',    'RUNX1',\n",
    "       'SMAD4',  'SMARCB1', 'SRC',    'STK11',\n",
    "       'TP53',   'VHL',     'WRAP53'\n",
    "   ]) AS symbol\n",
    "), luad AS (\n",
    "   SELECT COUNT(DISTINCT sample_barcode_tumor) AS unique_samples\n",
    "     FROM `isb-cgc.TCGA_hg38_data_v0.Somatic_Mutation` tcga_mut\n",
    "    WHERE tcga_mut.sample_barcode_tumor IN (SELECT samplebarcode FROM `isb-cgc.tcga_cohorts.LUAD`)\n",
    ")\n",
    "  SELECT genes.symbol Hugo_Symbol,  \n",
    "         COUNT(DISTINCT sample_barcode_tumor)/(SELECT unique_samples FROM luad) mut_freq\n",
    "    FROM genes, `isb-cgc.TCGA_hg38_data_v0.Somatic_Mutation` tcga_mut\n",
    "   WHERE genes.symbol = tcga_mut.symbol\n",
    "     AND tcga_mut.Variant_Type = 'SNP'\n",
    "     AND tcga_mut.sample_barcode_tumor IN (SELECT samplebarcode FROM `isb-cgc.tcga_cohorts.LUAD`)\n",
    "GROUP BY genes.symbol\n",
    "ORDER BY mut_freq DESC"
   ]
  },
  {
   "cell_type": "code",
   "execution_count": null,
   "metadata": {},
   "outputs": [],
   "source": [
    "tcga"
   ]
  },
  {
   "cell_type": "markdown",
   "metadata": {},
   "source": [
    "## Genie Query\n",
    "Second query against project-genie-query-prod.consortium.mutation. Takes a list of gene symbols and returns a list of GENIE cases (patient IDs) that have a SNP called for those genes.\n",
    "\n",
    "Code from ISB-CGC Community Notebooks (D. Gibbs) and PHS (J. Slagel) \n"
   ]
  },
  {
   "cell_type": "code",
   "execution_count": null,
   "metadata": {},
   "outputs": [],
   "source": [
    "%%bigquery genie\n",
    "WITH genes AS (\n",
    "  SELECT * FROM UNNEST([\n",
    "       'ABL1',   'AKT1',    'ALK',    'APC',\n",
    "       'BRAF',   'CDH1',    'CDKN2A', 'CSF1R',\n",
    "       'CTNNB1', 'EGFR',    'ERBB2',  'ERBB3',\n",
    "       'ESR1',   'FBXW7',   'FGFR1',  'FGFR2',\n",
    "       'FGFR3',  'FLT3',    'GNA11',  'GNAQ',\n",
    "       'GNAS',   'HRAS',    'IDH1',   'IDH2',\n",
    "       'JAK2',   'JAK3',    'KIT',    'KLLN',\n",
    "       'KRAS',   'MAP2K1',  'MET',    'MLH1',\n",
    "       'MPL',    'MYC',     'NOTCH1', 'NRAS',\n",
    "       'PDGFRA', 'PIK3CA',  'PIK3R1', 'PTEN',\n",
    "       'PTPN11', 'RB1',     'RET',    'RUNX1',\n",
    "       'SMAD4',  'SMARCB1', 'SRC',    'STK11',\n",
    "       'TP53',   'VHL',     'WRAP53'\n",
    "   ]) AS symbol\n",
    "), luad AS (\n",
    "  SELECT DISTINCT patient_id, sample_id\n",
    "    FROM `project-genie-query-prod.consortium.sample` \n",
    "   WHERE cancer_type_detailed = 'Lung Adenocarcinoma'\n",
    "), patient AS (\n",
    "  SELECT COUNT(DISTINCT patient_id) total\n",
    "    FROM `project-genie-query-prod.consortium.mutation` m, luad\n",
    "   WHERE m.Tumor_Sample_Barcode = luad.sample_id\n",
    ")\n",
    "  SELECT m.Hugo_Symbol, \n",
    "         COUNT(DISTINCT luad.patient_id)/(SELECT total FROM patient) mut_freq\n",
    "    FROM `project-genie-query-prod.consortium.mutation` m, luad\n",
    "   WHERE m.Hugo_Symbol IN (SELECT symbol FROM genes)\n",
    "     AND m.Variant_Type ='SNP'\n",
    "     AND m.Tumor_Sample_Barcode = luad.SAMPLE_ID \n",
    "GROUP BY m.Hugo_Symbol \n",
    "ORDER BY mut_freq desc"
   ]
  },
  {
   "cell_type": "code",
   "execution_count": null,
   "metadata": {},
   "outputs": [],
   "source": [
    "genie"
   ]
  },
  {
   "cell_type": "markdown",
   "metadata": {},
   "source": [
    "## Merge Tables\n",
    "Merges the tables using pandas.  A more efficent approach would be to use only a single SQL query to query both data sources.  However this example shows how you can use both BigQuery and pandas within a single example."
   ]
  },
  {
   "cell_type": "code",
   "execution_count": null,
   "metadata": {},
   "outputs": [],
   "source": [
    "import pandas as pd\n",
    "results = pd.merge(tcga, genie, on='Hugo_Symbol')"
   ]
  },
  {
   "cell_type": "markdown",
   "metadata": {},
   "source": [
    "## Plot\n",
    "Visualize the results."
   ]
  },
  {
   "cell_type": "code",
   "execution_count": null,
   "metadata": {},
   "outputs": [],
   "source": [
    "p = results.plot.scatter(x='mut_freq_x', y='mut_freq_y', grid=True)\n",
    "p.set_title('GENIE vs TCGA % Mutated \\n 50 Top GENIE Assay Covered Genes')\n",
    "p.set_xlabel('TCGA % Mutated')\n",
    "p.set_ylabel('GENIE % Mutated')\n",
    "for i, txt in enumerate(results.Hugo_Symbol):\n",
    "    if results.mut_freq_x.iat[i] > 0.09:\n",
    "        p.annotate(txt, (results.mut_freq_x.iat[i] + 0.005, results.mut_freq_y.iat[i]))\n",
    "p.annotate(\"\",\n",
    "              xy=(0, 0), xycoords='data',\n",
    "              xytext=(0.43, 0.43), textcoords='data',\n",
    "              arrowprops=dict(arrowstyle=\"-\",\n",
    "                              connectionstyle=\"arc3,rad=0.\"), \n",
    "              )"
   ]
  },
  {
   "cell_type": "code",
   "execution_count": null,
   "metadata": {},
   "outputs": [],
   "source": []
  }
 ],
 "metadata": {
  "environment": {
   "name": "common-cpu.m56",
   "type": "gcloud",
   "uri": "gcr.io/deeplearning-platform-release/base-cpu:m56"
  },
  "kernelspec": {
   "display_name": "Python 3",
   "language": "python",
   "name": "python3"
  },
  "language_info": {
   "codemirror_mode": {
    "name": "ipython",
    "version": 3
   },
   "file_extension": ".py",
   "mimetype": "text/x-python",
   "name": "python",
   "nbconvert_exporter": "python",
   "pygments_lexer": "ipython3",
   "version": "3.7.8"
  }
 },
 "nbformat": 4,
 "nbformat_minor": 4
}
